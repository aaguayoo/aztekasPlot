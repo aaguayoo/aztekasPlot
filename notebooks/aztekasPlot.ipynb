{
 "cells": [
  {
   "cell_type": "code",
   "execution_count": 1,
   "id": "d2911dae-9a98-431d-a850-0c93182a6600",
   "metadata": {},
   "outputs": [],
   "source": [
    "from Aztekasplot.main import Plotter"
   ]
  },
  {
   "cell_type": "code",
   "execution_count": 2,
   "id": "3d3aeddd-f959-4e2b-acb7-36b749c32572",
   "metadata": {},
   "outputs": [],
   "source": [
    "plot = Plotter(\"./analytic.dat\")"
   ]
  },
  {
   "cell_type": "code",
   "execution_count": 5,
   "id": "577be6ed-fe86-42a9-8dee-3a6986227c06",
   "metadata": {},
   "outputs": [
    {
     "data": {
      "text/plain": [
       "{'time': 0.0, 'Nx1': 1001}"
      ]
     },
     "execution_count": 5,
     "metadata": {},
     "output_type": "execute_result"
    }
   ],
   "source": [
    "plot.data_dict"
   ]
  },
  {
   "cell_type": "code",
   "execution_count": null,
   "id": "483b41d1-ac5a-42c0-abe2-27e09d1cbc75",
   "metadata": {},
   "outputs": [],
   "source": []
  }
 ],
 "metadata": {
  "kernelspec": {
   "display_name": "Aztekasplot",
   "language": "python",
   "name": "aztekasplot"
  },
  "language_info": {
   "codemirror_mode": {
    "name": "ipython",
    "version": 3
   },
   "file_extension": ".py",
   "mimetype": "text/x-python",
   "name": "python",
   "nbconvert_exporter": "python",
   "pygments_lexer": "ipython3",
   "version": "3.8.6"
  }
 },
 "nbformat": 4,
 "nbformat_minor": 5
}
