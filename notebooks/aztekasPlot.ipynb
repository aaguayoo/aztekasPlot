{
 "cells": [
  {
   "cell_type": "code",
   "execution_count": 1,
   "id": "d2911dae-9a98-431d-a850-0c93182a6600",
   "metadata": {},
   "outputs": [],
   "source": [
    "from Aztekasplot.main import Plotter"
   ]
  },
  {
   "cell_type": "code",
   "execution_count": 2,
   "id": "3d3aeddd-f959-4e2b-acb7-36b749c32572",
   "metadata": {},
   "outputs": [
    {
     "name": "stderr",
     "output_type": "stream",
     "text": [
      "/home/aaguayoo/AZTEKAS/aztekasPlot/code/aztekasPlot/Aztekasplot/utils/coordinates.py:182: RuntimeWarning: invalid value encountered in sqrt\n",
      "  alpha_NH = np.sqrt(metric_dict[\"rho2\"]*metric_dict[\"Delta\"]/metric_dict[\"Sigma\"])\n"
     ]
    }
   ],
   "source": [
    "plot = Plotter(\"./data.dat\",metric=\"Kerr-Schild\",a_spin=0.0)"
   ]
  },
  {
   "cell_type": "code",
   "execution_count": 4,
   "id": "577be6ed-fe86-42a9-8dee-3a6986227c06",
   "metadata": {},
   "outputs": [
    {
     "data": {
      "text/plain": [
       "array([[ 0.00000000e+00,  0.00000000e+00,  0.00000000e+00, ...,\n",
       "         0.00000000e+00,  0.00000000e+00,  0.00000000e+00],\n",
       "       [-4.77398617e-02, -4.60190560e-02, -4.43235263e-02, ...,\n",
       "        -1.00036036e-04,  9.14124346e-04,  2.21153892e-03],\n",
       "       [-9.55417095e-02, -9.21091550e-02, -8.87231354e-02, ...,\n",
       "        -6.15347581e-04,  1.00535277e-04,  1.01049328e-03],\n",
       "       ...,\n",
       "       [-9.70279747e-01, -9.35430376e-01, -9.01044264e-01, ...,\n",
       "        -1.52111175e-02, -1.37903467e-02, -1.27750996e-02],\n",
       "       [-9.73802145e-01, -9.38826373e-01, -9.04315417e-01, ...,\n",
       "        -1.52722009e-02, -1.38466546e-02, -1.28292515e-02],\n",
       "       [-9.74977495e-01, -9.39959567e-01, -9.05406977e-01, ...,\n",
       "        -1.52929325e-02, -1.38659104e-02, -1.28473340e-02]])"
      ]
     },
     "execution_count": 4,
     "metadata": {},
     "output_type": "execute_result"
    }
   ],
   "source": [
    "plot.data_dict[\"vX1\"]"
   ]
  },
  {
   "cell_type": "code",
   "execution_count": null,
   "id": "9b715eeb-0100-465a-aff3-9a23f2914501",
   "metadata": {},
   "outputs": [],
   "source": []
  }
 ],
 "metadata": {
  "kernelspec": {
   "display_name": "Aztekasplot",
   "language": "python",
   "name": "aztekasplot"
  },
  "language_info": {
   "codemirror_mode": {
    "name": "ipython",
    "version": 3
   },
   "file_extension": ".py",
   "mimetype": "text/x-python",
   "name": "python",
   "nbconvert_exporter": "python",
   "pygments_lexer": "ipython3",
   "version": "3.8.6"
  }
 },
 "nbformat": 4,
 "nbformat_minor": 5
}
